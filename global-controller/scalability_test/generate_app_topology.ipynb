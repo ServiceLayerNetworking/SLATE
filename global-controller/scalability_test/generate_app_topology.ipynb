{
 "cells": [
  {
   "cell_type": "code",
   "execution_count": 40,
   "metadata": {},
   "outputs": [
    {
     "name": "stdout",
     "output_type": "stream",
     "text": [
      "0: ['1', '2']\n",
      "1: ['3', '4']\n",
      "3: []\n",
      "4: []\n",
      "2: ['5', '6']\n",
      "5: []\n",
      "6: []\n"
     ]
    }
   ],
   "source": [
    "def generate_tree(root_name, depth, fanout):\n",
    "    # Recursive function to generate the tree structure\n",
    "    def create_subtree(current_depth, parent_name):\n",
    "        # If we've reached the maximum depth, it's a leaf node\n",
    "        if current_depth == depth:\n",
    "            return {parent_name: []}\n",
    "\n",
    "        # Generate unique child node names based on the parent context\n",
    "        temp_children = [f\"{parent_name}-{i}\" for i in range(1, fanout + 1)]\n",
    "        children = list()\n",
    "        for temp_node in temp_children:\n",
    "            tokens_in_node_name = temp_node.split('-')\n",
    "            new_node_name = 0\n",
    "            for i in range(len(tokens_in_node_name)):\n",
    "                new_node_name += int(tokens_in_node_name[i])*(len(tokens_in_node_name)-i)\n",
    "            children.append(str(new_node_name))\n",
    "                \n",
    "        # Create the tree dictionary with the current parent and its children\n",
    "        subtree = {parent_name: children}\n",
    "\n",
    "        # Recursively create subtrees for each child node\n",
    "        for child in children:\n",
    "            subtree.update(create_subtree(current_depth + 1, child))\n",
    "\n",
    "        return subtree\n",
    "\n",
    "    # Start the recursive tree creation from the root node\n",
    "    tree = create_subtree(1, root_name)\n",
    "\n",
    "    return tree\n",
    "\n",
    "\n",
    "# Example usage\n",
    "root_name = \"0\"  # Root node's name\n",
    "depth = 3  # Total depth of the tree\n",
    "fanout = 2  # Number of child nodes for each parent\n",
    "\n",
    "# Generate the tree dictionary\n",
    "tree = generate_tree(root_name, depth, fanout)\n",
    "\n",
    "# Display the generated tree structure\n",
    "for parent, children in tree.items():\n",
    "    print(f\"{parent}: {children}\")\n"
   ]
  },
  {
   "cell_type": "code",
   "execution_count": null,
   "metadata": {},
   "outputs": [],
   "source": []
  }
 ],
 "metadata": {
  "kernelspec": {
   "display_name": "Python 3",
   "language": "python",
   "name": "python3"
  },
  "language_info": {
   "codemirror_mode": {
    "name": "ipython",
    "version": 3
   },
   "file_extension": ".py",
   "mimetype": "text/x-python",
   "name": "python",
   "nbconvert_exporter": "python",
   "pygments_lexer": "ipython3",
   "version": "3.10.12"
  }
 },
 "nbformat": 4,
 "nbformat_minor": 2
}
