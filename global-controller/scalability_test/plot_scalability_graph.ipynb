{
 "cells": [
  {
   "cell_type": "code",
   "execution_count": 1,
   "metadata": {},
   "outputs": [],
   "source": [
    "import pandas as pd\n",
    "import csv\n",
    "import matplotlib.pyplot as plt\n",
    "import numpy as np"
   ]
  },
  {
   "cell_type": "code",
   "execution_count": null,
   "metadata": {},
   "outputs": [],
   "source": [
    "# title,num_cluster,num_request_type,depth,fanout,num_svc,num_endpoint,degree,num_variable,num_constraint,solver_time\n",
    "# solver_time,2,8,5,2,9,72,1,832,433,0.26445722579956055\n",
    "# solver_time,4,8,5,2,9,72,1,2688,865,3.2777652740478516\n",
    "# solver_time,6,8,5,2,9,72,1,5568,1297,12.73677682876587\n",
    "# solver_time,8,8,5,2,9,72,1,9472,1729,26.74241805076599\n",
    "# solver_time,10,8,5,2,9,72,1,14400,2161,47.708784341812134\n"
   ]
  },
  {
   "cell_type": "code",
   "execution_count": 7,
   "metadata": {},
   "outputs": [
    {
     "ename": "NameError",
     "evalue": "name 'yaxis' is not defined",
     "output_type": "error",
     "traceback": [
      "\u001b[0;31m---------------------------------------------------------------------------\u001b[0m",
      "\u001b[0;31mNameError\u001b[0m                                 Traceback (most recent call last)",
      "\u001b[0;32m/tmp/ipykernel_623489/3696763082.py\u001b[0m in \u001b[0;36m<module>\u001b[0;34m\u001b[0m\n\u001b[1;32m     74\u001b[0m \u001b[0mlabel\u001b[0m \u001b[0;34m=\u001b[0m \u001b[0;34m'num_request_type'\u001b[0m\u001b[0;34m\u001b[0m\u001b[0;34m\u001b[0m\u001b[0m\n\u001b[1;32m     75\u001b[0m \u001b[0;31m# plot_num_variable(fn, label=label, xaxis=axis, degree=1, depth=None, fanout=2)\u001b[0m\u001b[0;34m\u001b[0m\u001b[0;34m\u001b[0m\u001b[0m\n\u001b[0;32m---> 76\u001b[0;31m \u001b[0mplot_num_variable\u001b[0m\u001b[0;34m(\u001b[0m\u001b[0mfn\u001b[0m\u001b[0;34m,\u001b[0m \u001b[0mlabel\u001b[0m\u001b[0;34m=\u001b[0m\u001b[0mlabel\u001b[0m\u001b[0;34m,\u001b[0m \u001b[0mxaxis\u001b[0m\u001b[0;34m=\u001b[0m\u001b[0maxis\u001b[0m\u001b[0;34m,\u001b[0m \u001b[0myaxis\u001b[0m\u001b[0;34m=\u001b[0m\u001b[0myaxis\u001b[0m\u001b[0;34m,\u001b[0m \u001b[0mdegree\u001b[0m\u001b[0;34m=\u001b[0m\u001b[0;36m1\u001b[0m\u001b[0;34m,\u001b[0m \u001b[0mdepth\u001b[0m\u001b[0;34m=\u001b[0m\u001b[0;36m2\u001b[0m\u001b[0;34m,\u001b[0m \u001b[0mfanout\u001b[0m\u001b[0;34m=\u001b[0m\u001b[0;36m2\u001b[0m\u001b[0;34m)\u001b[0m\u001b[0;34m\u001b[0m\u001b[0;34m\u001b[0m\u001b[0m\n\u001b[0m\u001b[1;32m     77\u001b[0m \u001b[0mplot_num_variable\u001b[0m\u001b[0;34m(\u001b[0m\u001b[0mfn\u001b[0m\u001b[0;34m,\u001b[0m \u001b[0mlabel\u001b[0m\u001b[0;34m=\u001b[0m\u001b[0mlabel\u001b[0m\u001b[0;34m,\u001b[0m \u001b[0mxaxis\u001b[0m\u001b[0;34m=\u001b[0m\u001b[0maxis\u001b[0m\u001b[0;34m,\u001b[0m \u001b[0myaxis\u001b[0m\u001b[0;34m=\u001b[0m\u001b[0myaxis\u001b[0m\u001b[0;34m,\u001b[0m \u001b[0mdegree\u001b[0m\u001b[0;34m=\u001b[0m\u001b[0;36m1\u001b[0m\u001b[0;34m,\u001b[0m \u001b[0mdepth\u001b[0m\u001b[0;34m=\u001b[0m\u001b[0;36m3\u001b[0m\u001b[0;34m,\u001b[0m \u001b[0mfanout\u001b[0m\u001b[0;34m=\u001b[0m\u001b[0;36m2\u001b[0m\u001b[0;34m)\u001b[0m\u001b[0;34m\u001b[0m\u001b[0;34m\u001b[0m\u001b[0m\n\u001b[1;32m     78\u001b[0m \u001b[0mplot_num_variable\u001b[0m\u001b[0;34m(\u001b[0m\u001b[0mfn\u001b[0m\u001b[0;34m,\u001b[0m \u001b[0mlabel\u001b[0m\u001b[0;34m=\u001b[0m\u001b[0mlabel\u001b[0m\u001b[0;34m,\u001b[0m \u001b[0mxaxis\u001b[0m\u001b[0;34m=\u001b[0m\u001b[0maxis\u001b[0m\u001b[0;34m,\u001b[0m \u001b[0myaxis\u001b[0m\u001b[0;34m=\u001b[0m\u001b[0myaxis\u001b[0m\u001b[0;34m,\u001b[0m \u001b[0mdegree\u001b[0m\u001b[0;34m=\u001b[0m\u001b[0;36m1\u001b[0m\u001b[0;34m,\u001b[0m \u001b[0mdepth\u001b[0m\u001b[0;34m=\u001b[0m\u001b[0;36m4\u001b[0m\u001b[0;34m,\u001b[0m \u001b[0mfanout\u001b[0m\u001b[0;34m=\u001b[0m\u001b[0;36m2\u001b[0m\u001b[0;34m)\u001b[0m\u001b[0;34m\u001b[0m\u001b[0;34m\u001b[0m\u001b[0m\n",
      "\u001b[0;31mNameError\u001b[0m: name 'yaxis' is not defined"
     ]
    }
   ],
   "source": [
    "\n",
    "def parse_and_plot(fn, fanout, num_request_type, xaxis, degree):\n",
    "    df = pd.read_csv(fn)\n",
    "    df = df[df[\"degree\"]==degree]\n",
    "    df = df[df[\"fanout\"]==fanout]\n",
    "    df = df[(df[\"num_cluster\"]==2) | (df[\"num_cluster\"]==4) | (df[\"num_cluster\"]==6) | (df[\"num_cluster\"]==8) | (df[\"num_cluster\"]==10)]\n",
    "    # df = df[df[\"num_callgraph\"]==num_callgraph]\n",
    "    df = df[df[\"num_request_type\"]==num_request_type]\n",
    "    # display(df)\n",
    "    df_sorted = df.sort_values(by=['num_svc', 'num_endpoint', 'num_cluster', 'num_request_type'])\n",
    "    df_sorted.reset_index(drop=True, inplace=True)\n",
    "    clusters = df_sorted[\"num_cluster\"].unique()\n",
    "    colors = plt.cm.rainbow(np.linspace(0, 1, len(clusters)))\n",
    "    plt.figure(figsize=(5, 4))\n",
    "    for color, cluster in zip(colors, clusters):\n",
    "        cluster_data = df_sorted[df_sorted[\"num_cluster\"] == cluster]\n",
    "        plt.plot(cluster_data[xaxis], cluster_data[\"solver_time\"], label=f'Cluster {cluster}', marker='o')\n",
    "    plt.title(f\"Num request type={num_request_type}\", fontsize=18)\n",
    "    plt.xlabel(xaxis, fontsize=18)\n",
    "    plt.ylabel(\"Time (seconds)\", fontsize=18)\n",
    "    plt.xticks(cluster_data[xaxis], fontsize=14)\n",
    "    plt.yticks(fontsize=14)\n",
    "    plt.xlim(left=0.9)\n",
    "    plt.ylim(bottom=0)\n",
    "    plt.legend()  # Display the legend to distinguish clusters\n",
    "    plt.savefig(f\"scalability-numreqtype{num_request_type}-degree{degree}-fanout{fanout}-xaxis{xaxis}.pdf\")\n",
    "    plt.show()\n",
    "    \n",
    "    \n",
    "def plot_num_variable(fn, label, xaxis, yaxis, degree=None, depth=None, fanout=None):\n",
    "    df = pd.read_csv(fn)\n",
    "    # df[\"depth2\"] = (df[\"num_svc\"] - 1)/df[\"fanout\"]\n",
    "    # df[\"depth\"] = df[\"depth2\"].apply(lambda x: int(x))\n",
    "    # df[\"depth\"] = df[\"depth2\"]\n",
    "    # df.to_csv(\"result-temp2-revised.csv\", index=False)\n",
    "    if degree is not None:\n",
    "        df = df[df[\"degree\"]==degree]\n",
    "    if depth is not None:\n",
    "        df = df[df[\"depth\"]==depth]\n",
    "    if fanout is not None:\n",
    "        df = df[df[\"fanout\"]==fanout]\n",
    "    \n",
    "    # df = df[(df[\"num_cluster\"]==2) | (df[\"num_cluster\"]==4) | (df[\"num_cluster\"]==6) | (df[\"num_cluster\"]==8) | (df[\"num_cluster\"]==10)]\n",
    "    # df = df[df[\"num_request_type\"]==num_request_type]\n",
    "    \n",
    "    df_sorted = df.sort_values(by=['num_variable', 'num_svc', 'num_endpoint', 'depth', 'num_cluster'])\n",
    "    df_sorted.reset_index(drop=True, inplace=True)\n",
    "    # clusters = df_sorted[\"num_cluster\"].unique()\n",
    "    labels = df_sorted[label].unique()\n",
    "    colors = plt.cm.rainbow(np.linspace(0, 1, len(labels)))\n",
    "    plt.figure(figsize=(5, 4))\n",
    "    for color, l_ in zip(colors, labels):\n",
    "        cluster_data = df_sorted[df_sorted[label] == l_]\n",
    "        # plt.plot(cluster_data[xaxis], cluster_data[\"num_variable\"], label=f\"{label}={l_}\", marker='o')\n",
    "        # plt.plot(cluster_data[xaxis], cluster_data[\"num_constraint\"], label=f\"{label}={l_}\", marker='x')\n",
    "        plt.plot(cluster_data[xaxis], cluster_data[yaxis], label=f\"{label}={l_}\", marker='x')\n",
    "        \n",
    "    # plt.title(f\"Num request type={num_request_type}\", fontsize=18)\n",
    "    plt.title(f\"Depth={depth}\", fontsize=18)\n",
    "    plt.xlabel(xaxis, fontsize=18)\n",
    "    plt.ylabel(yaxis, fontsize=18)\n",
    "    plt.xticks(cluster_data[xaxis], fontsize=14)\n",
    "    plt.yticks(fontsize=14)\n",
    "    plt.xlim(left=0.9)\n",
    "    plt.ylim(bottom=0)\n",
    "    plt.legend()  # Display the legend to distinguish clusters\n",
    "    plt.grid()\n",
    "    plt.savefig(f\"scalability-degree{degree}-fanout{fanout}-xaxis{xaxis}.pdf\")\n",
    "    plt.show()\n",
    "\n",
    "\n",
    "fn=\"result-temp2-revised.csv\"\n",
    "axis = 'num_cluster'\n",
    "yaxis = 'solver_time'\n",
    "label = 'num_request_type'\n",
    "# plot_num_variable(fn, label=label, xaxis=axis, degree=1, depth=None, fanout=2)\n",
    "plot_num_variable(fn, label=label, xaxis=axis, yaxis=yaxis, degree=1, depth=2, fanout=2)\n",
    "plot_num_variable(fn, label=label, xaxis=axis, yaxis=yaxis, degree=1, depth=3, fanout=2)\n",
    "plot_num_variable(fn, label=label, xaxis=axis, yaxis=yaxis, degree=1, depth=4, fanout=2)\n"
   ]
  },
  {
   "cell_type": "code",
   "execution_count": 3,
   "metadata": {},
   "outputs": [
    {
     "ename": "TypeError",
     "evalue": "parse_and_plot() got an unexpected keyword argument 'num_callgraph'",
     "output_type": "error",
     "traceback": [
      "\u001b[0;31m---------------------------------------------------------------------------\u001b[0m",
      "\u001b[0;31mTypeError\u001b[0m                                 Traceback (most recent call last)",
      "\u001b[0;32m/tmp/ipykernel_623489/2965629110.py\u001b[0m in \u001b[0;36m<module>\u001b[0;34m\u001b[0m\n\u001b[1;32m      1\u001b[0m \u001b[0mfn\u001b[0m\u001b[0;34m=\u001b[0m\u001b[0;34m\"result-degree2-fanout1.csv\"\u001b[0m\u001b[0;34m\u001b[0m\u001b[0;34m\u001b[0m\u001b[0m\n\u001b[0;32m----> 2\u001b[0;31m \u001b[0mparse_and_plot\u001b[0m\u001b[0;34m(\u001b[0m\u001b[0mfn\u001b[0m\u001b[0;34m,\u001b[0m \u001b[0mfanout\u001b[0m\u001b[0;34m=\u001b[0m\u001b[0;36m1\u001b[0m\u001b[0;34m,\u001b[0m \u001b[0mnum_callgraph\u001b[0m\u001b[0;34m=\u001b[0m\u001b[0;36m2\u001b[0m\u001b[0;34m,\u001b[0m \u001b[0mxaxis\u001b[0m\u001b[0;34m=\u001b[0m\u001b[0;34m\"depth\"\u001b[0m\u001b[0;34m,\u001b[0m \u001b[0mdegree\u001b[0m\u001b[0;34m=\u001b[0m\u001b[0;36m2\u001b[0m\u001b[0;34m)\u001b[0m\u001b[0;34m\u001b[0m\u001b[0;34m\u001b[0m\u001b[0m\n\u001b[0m\u001b[1;32m      3\u001b[0m \u001b[0mparse_and_plot\u001b[0m\u001b[0;34m(\u001b[0m\u001b[0mfn\u001b[0m\u001b[0;34m,\u001b[0m \u001b[0mfanout\u001b[0m\u001b[0;34m=\u001b[0m\u001b[0;36m1\u001b[0m\u001b[0;34m,\u001b[0m \u001b[0mnum_callgraph\u001b[0m\u001b[0;34m=\u001b[0m\u001b[0;36m4\u001b[0m\u001b[0;34m,\u001b[0m \u001b[0mxaxis\u001b[0m\u001b[0;34m=\u001b[0m\u001b[0;34m\"depth\"\u001b[0m\u001b[0;34m,\u001b[0m \u001b[0mdegree\u001b[0m\u001b[0;34m=\u001b[0m\u001b[0;36m2\u001b[0m\u001b[0;34m)\u001b[0m\u001b[0;34m\u001b[0m\u001b[0;34m\u001b[0m\u001b[0m\n\u001b[1;32m      4\u001b[0m \u001b[0mparse_and_plot\u001b[0m\u001b[0;34m(\u001b[0m\u001b[0mfn\u001b[0m\u001b[0;34m,\u001b[0m \u001b[0mfanout\u001b[0m\u001b[0;34m=\u001b[0m\u001b[0;36m1\u001b[0m\u001b[0;34m,\u001b[0m \u001b[0mnum_callgraph\u001b[0m\u001b[0;34m=\u001b[0m\u001b[0;36m6\u001b[0m\u001b[0;34m,\u001b[0m \u001b[0mxaxis\u001b[0m\u001b[0;34m=\u001b[0m\u001b[0;34m\"depth\"\u001b[0m\u001b[0;34m,\u001b[0m \u001b[0mdegree\u001b[0m\u001b[0;34m=\u001b[0m\u001b[0;36m2\u001b[0m\u001b[0;34m)\u001b[0m\u001b[0;34m\u001b[0m\u001b[0;34m\u001b[0m\u001b[0m\n\u001b[1;32m      5\u001b[0m \u001b[0mparse_and_plot\u001b[0m\u001b[0;34m(\u001b[0m\u001b[0mfn\u001b[0m\u001b[0;34m,\u001b[0m \u001b[0mfanout\u001b[0m\u001b[0;34m=\u001b[0m\u001b[0;36m1\u001b[0m\u001b[0;34m,\u001b[0m \u001b[0mnum_callgraph\u001b[0m\u001b[0;34m=\u001b[0m\u001b[0;36m8\u001b[0m\u001b[0;34m,\u001b[0m \u001b[0mxaxis\u001b[0m\u001b[0;34m=\u001b[0m\u001b[0;34m\"depth\"\u001b[0m\u001b[0;34m,\u001b[0m \u001b[0mdegree\u001b[0m\u001b[0;34m=\u001b[0m\u001b[0;36m2\u001b[0m\u001b[0;34m)\u001b[0m\u001b[0;34m\u001b[0m\u001b[0;34m\u001b[0m\u001b[0m\n",
      "\u001b[0;31mTypeError\u001b[0m: parse_and_plot() got an unexpected keyword argument 'num_callgraph'"
     ]
    }
   ],
   "source": [
    "fn=\"result-degree2-fanout1.csv\"\n",
    "parse_and_plot(fn, fanout=1, num_callgraph=2, xaxis=\"depth\", degree=2)\n",
    "parse_and_plot(fn, fanout=1, num_callgraph=4, xaxis=\"depth\", degree=2)\n",
    "parse_and_plot(fn, fanout=1, num_callgraph=6, xaxis=\"depth\", degree=2)\n",
    "parse_and_plot(fn, fanout=1, num_callgraph=8, xaxis=\"depth\", degree=2)"
   ]
  },
  {
   "cell_type": "code",
   "execution_count": 4,
   "metadata": {},
   "outputs": [
    {
     "ename": "TypeError",
     "evalue": "parse_and_plot() got an unexpected keyword argument 'num_callgraph'",
     "output_type": "error",
     "traceback": [
      "\u001b[0;31m---------------------------------------------------------------------------\u001b[0m",
      "\u001b[0;31mTypeError\u001b[0m                                 Traceback (most recent call last)",
      "\u001b[0;32m/tmp/ipykernel_623489/2965629110.py\u001b[0m in \u001b[0;36m<module>\u001b[0;34m\u001b[0m\n\u001b[1;32m      1\u001b[0m \u001b[0mfn\u001b[0m\u001b[0;34m=\u001b[0m\u001b[0;34m\"result-degree2-fanout1.csv\"\u001b[0m\u001b[0;34m\u001b[0m\u001b[0;34m\u001b[0m\u001b[0m\n\u001b[0;32m----> 2\u001b[0;31m \u001b[0mparse_and_plot\u001b[0m\u001b[0;34m(\u001b[0m\u001b[0mfn\u001b[0m\u001b[0;34m,\u001b[0m \u001b[0mfanout\u001b[0m\u001b[0;34m=\u001b[0m\u001b[0;36m1\u001b[0m\u001b[0;34m,\u001b[0m \u001b[0mnum_callgraph\u001b[0m\u001b[0;34m=\u001b[0m\u001b[0;36m2\u001b[0m\u001b[0;34m,\u001b[0m \u001b[0mxaxis\u001b[0m\u001b[0;34m=\u001b[0m\u001b[0;34m\"depth\"\u001b[0m\u001b[0;34m,\u001b[0m \u001b[0mdegree\u001b[0m\u001b[0;34m=\u001b[0m\u001b[0;36m2\u001b[0m\u001b[0;34m)\u001b[0m\u001b[0;34m\u001b[0m\u001b[0;34m\u001b[0m\u001b[0m\n\u001b[0m\u001b[1;32m      3\u001b[0m \u001b[0mparse_and_plot\u001b[0m\u001b[0;34m(\u001b[0m\u001b[0mfn\u001b[0m\u001b[0;34m,\u001b[0m \u001b[0mfanout\u001b[0m\u001b[0;34m=\u001b[0m\u001b[0;36m1\u001b[0m\u001b[0;34m,\u001b[0m \u001b[0mnum_callgraph\u001b[0m\u001b[0;34m=\u001b[0m\u001b[0;36m4\u001b[0m\u001b[0;34m,\u001b[0m \u001b[0mxaxis\u001b[0m\u001b[0;34m=\u001b[0m\u001b[0;34m\"depth\"\u001b[0m\u001b[0;34m,\u001b[0m \u001b[0mdegree\u001b[0m\u001b[0;34m=\u001b[0m\u001b[0;36m2\u001b[0m\u001b[0;34m)\u001b[0m\u001b[0;34m\u001b[0m\u001b[0;34m\u001b[0m\u001b[0m\n\u001b[1;32m      4\u001b[0m \u001b[0mparse_and_plot\u001b[0m\u001b[0;34m(\u001b[0m\u001b[0mfn\u001b[0m\u001b[0;34m,\u001b[0m \u001b[0mfanout\u001b[0m\u001b[0;34m=\u001b[0m\u001b[0;36m1\u001b[0m\u001b[0;34m,\u001b[0m \u001b[0mnum_callgraph\u001b[0m\u001b[0;34m=\u001b[0m\u001b[0;36m6\u001b[0m\u001b[0;34m,\u001b[0m \u001b[0mxaxis\u001b[0m\u001b[0;34m=\u001b[0m\u001b[0;34m\"depth\"\u001b[0m\u001b[0;34m,\u001b[0m \u001b[0mdegree\u001b[0m\u001b[0;34m=\u001b[0m\u001b[0;36m2\u001b[0m\u001b[0;34m)\u001b[0m\u001b[0;34m\u001b[0m\u001b[0;34m\u001b[0m\u001b[0m\n\u001b[1;32m      5\u001b[0m \u001b[0mparse_and_plot\u001b[0m\u001b[0;34m(\u001b[0m\u001b[0mfn\u001b[0m\u001b[0;34m,\u001b[0m \u001b[0mfanout\u001b[0m\u001b[0;34m=\u001b[0m\u001b[0;36m1\u001b[0m\u001b[0;34m,\u001b[0m \u001b[0mnum_callgraph\u001b[0m\u001b[0;34m=\u001b[0m\u001b[0;36m8\u001b[0m\u001b[0;34m,\u001b[0m \u001b[0mxaxis\u001b[0m\u001b[0;34m=\u001b[0m\u001b[0;34m\"depth\"\u001b[0m\u001b[0;34m,\u001b[0m \u001b[0mdegree\u001b[0m\u001b[0;34m=\u001b[0m\u001b[0;36m2\u001b[0m\u001b[0;34m)\u001b[0m\u001b[0;34m\u001b[0m\u001b[0;34m\u001b[0m\u001b[0m\n",
      "\u001b[0;31mTypeError\u001b[0m: parse_and_plot() got an unexpected keyword argument 'num_callgraph'"
     ]
    }
   ],
   "source": [
    "fn=\"result-degree2-fanout1.csv\"\n",
    "parse_and_plot(fn, fanout=1, num_callgraph=2, xaxis=\"depth\", degree=2)\n",
    "parse_and_plot(fn, fanout=1, num_callgraph=4, xaxis=\"depth\", degree=2)\n",
    "parse_and_plot(fn, fanout=1, num_callgraph=6, xaxis=\"depth\", degree=2)\n",
    "parse_and_plot(fn, fanout=1, num_callgraph=8, xaxis=\"depth\", degree=2)"
   ]
  },
  {
   "cell_type": "code",
   "execution_count": 5,
   "metadata": {},
   "outputs": [
    {
     "ename": "TypeError",
     "evalue": "parse_and_plot() got an unexpected keyword argument 'num_callgraph'",
     "output_type": "error",
     "traceback": [
      "\u001b[0;31m---------------------------------------------------------------------------\u001b[0m",
      "\u001b[0;31mTypeError\u001b[0m                                 Traceback (most recent call last)",
      "\u001b[0;32m/tmp/ipykernel_623489/348496060.py\u001b[0m in \u001b[0;36m<module>\u001b[0;34m\u001b[0m\n\u001b[1;32m      1\u001b[0m \u001b[0mfn\u001b[0m\u001b[0;34m=\u001b[0m\u001b[0;34m\"result.csv\"\u001b[0m\u001b[0;34m\u001b[0m\u001b[0;34m\u001b[0m\u001b[0m\n\u001b[0;32m----> 2\u001b[0;31m \u001b[0mparse_and_plot\u001b[0m\u001b[0;34m(\u001b[0m\u001b[0mfn\u001b[0m\u001b[0;34m,\u001b[0m \u001b[0mfanout\u001b[0m\u001b[0;34m=\u001b[0m\u001b[0;36m1\u001b[0m\u001b[0;34m,\u001b[0m \u001b[0mnum_callgraph\u001b[0m\u001b[0;34m=\u001b[0m\u001b[0;36m2\u001b[0m\u001b[0;34m,\u001b[0m \u001b[0mxaxis\u001b[0m\u001b[0;34m=\u001b[0m\u001b[0;34m\"depth\"\u001b[0m\u001b[0;34m,\u001b[0m \u001b[0mdegree\u001b[0m\u001b[0;34m=\u001b[0m\u001b[0;36m1\u001b[0m\u001b[0;34m)\u001b[0m\u001b[0;34m\u001b[0m\u001b[0;34m\u001b[0m\u001b[0m\n\u001b[0m\u001b[1;32m      3\u001b[0m \u001b[0mparse_and_plot\u001b[0m\u001b[0;34m(\u001b[0m\u001b[0mfn\u001b[0m\u001b[0;34m,\u001b[0m \u001b[0mfanout\u001b[0m\u001b[0;34m=\u001b[0m\u001b[0;36m1\u001b[0m\u001b[0;34m,\u001b[0m \u001b[0mnum_callgraph\u001b[0m\u001b[0;34m=\u001b[0m\u001b[0;36m4\u001b[0m\u001b[0;34m,\u001b[0m \u001b[0mxaxis\u001b[0m\u001b[0;34m=\u001b[0m\u001b[0;34m\"depth\"\u001b[0m\u001b[0;34m,\u001b[0m \u001b[0mdegree\u001b[0m\u001b[0;34m=\u001b[0m\u001b[0;36m1\u001b[0m\u001b[0;34m)\u001b[0m\u001b[0;34m\u001b[0m\u001b[0;34m\u001b[0m\u001b[0m\n\u001b[1;32m      4\u001b[0m \u001b[0mparse_and_plot\u001b[0m\u001b[0;34m(\u001b[0m\u001b[0mfn\u001b[0m\u001b[0;34m,\u001b[0m \u001b[0mfanout\u001b[0m\u001b[0;34m=\u001b[0m\u001b[0;36m1\u001b[0m\u001b[0;34m,\u001b[0m \u001b[0mnum_callgraph\u001b[0m\u001b[0;34m=\u001b[0m\u001b[0;36m6\u001b[0m\u001b[0;34m,\u001b[0m \u001b[0mxaxis\u001b[0m\u001b[0;34m=\u001b[0m\u001b[0;34m\"depth\"\u001b[0m\u001b[0;34m,\u001b[0m \u001b[0mdegree\u001b[0m\u001b[0;34m=\u001b[0m\u001b[0;36m1\u001b[0m\u001b[0;34m)\u001b[0m\u001b[0;34m\u001b[0m\u001b[0;34m\u001b[0m\u001b[0m\n\u001b[1;32m      5\u001b[0m \u001b[0mparse_and_plot\u001b[0m\u001b[0;34m(\u001b[0m\u001b[0mfn\u001b[0m\u001b[0;34m,\u001b[0m \u001b[0mfanout\u001b[0m\u001b[0;34m=\u001b[0m\u001b[0;36m1\u001b[0m\u001b[0;34m,\u001b[0m \u001b[0mnum_callgraph\u001b[0m\u001b[0;34m=\u001b[0m\u001b[0;36m8\u001b[0m\u001b[0;34m,\u001b[0m \u001b[0mxaxis\u001b[0m\u001b[0;34m=\u001b[0m\u001b[0;34m\"depth\"\u001b[0m\u001b[0;34m,\u001b[0m \u001b[0mdegree\u001b[0m\u001b[0;34m=\u001b[0m\u001b[0;36m1\u001b[0m\u001b[0;34m)\u001b[0m\u001b[0;34m\u001b[0m\u001b[0;34m\u001b[0m\u001b[0m\n",
      "\u001b[0;31mTypeError\u001b[0m: parse_and_plot() got an unexpected keyword argument 'num_callgraph'"
     ]
    }
   ],
   "source": [
    "fn=\"result.csv\"\n",
    "parse_and_plot(fn, fanout=1, num_callgraph=2, xaxis=\"depth\", degree=1)\n",
    "parse_and_plot(fn, fanout=1, num_callgraph=4, xaxis=\"depth\", degree=1)\n",
    "parse_and_plot(fn, fanout=1, num_callgraph=6, xaxis=\"depth\", degree=1)\n",
    "parse_and_plot(fn, fanout=1, num_callgraph=8, xaxis=\"depth\", degree=1)"
   ]
  },
  {
   "cell_type": "code",
   "execution_count": null,
   "metadata": {},
   "outputs": [],
   "source": []
  }
 ],
 "metadata": {
  "kernelspec": {
   "display_name": "Python 3",
   "language": "python",
   "name": "python3"
  },
  "language_info": {
   "codemirror_mode": {
    "name": "ipython",
    "version": 3
   },
   "file_extension": ".py",
   "mimetype": "text/x-python",
   "name": "python",
   "nbconvert_exporter": "python",
   "pygments_lexer": "ipython3",
   "version": "3.10.12"
  }
 },
 "nbformat": 4,
 "nbformat_minor": 2
}
